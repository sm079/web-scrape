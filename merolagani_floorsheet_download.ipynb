{
 "cells": [
  {
   "cell_type": "code",
   "execution_count": null,
   "metadata": {},
   "outputs": [],
   "source": [
    "import requests\n",
    "import pandas as pd\n",
    "\n",
    "from io import StringIO\n",
    "from bs4 import BeautifulSoup\n",
    "from datetime import datetime, date, timedelta\n",
    "\n",
    "def refreshFormData(soup, form_data):\n",
    "    for elem in soup.find_all(\"input\", {\"type\": \"hidden\"}):\n",
    "        eid = elem.get(\"id\")\n",
    "        if \"ctl00\" in eid:\n",
    "            eid = eid.replace(\"_\", \"$\")\n",
    "        form_data[eid] = elem.get(\"value\")\n",
    "    return form_data\n",
    "\n",
    "form_data = {\n",
    "    \"__EVENTTARGET\": \"\",\n",
    "    \"__EVENTARGUMENT\": \"\",\n",
    "    \"__VIEWSTATE\": \"\",\n",
    "    \"__VIEWSTATEGENERATOR\": \"\",\n",
    "    \"__EVENTVALIDATION\": \"\",\n",
    "    \"ctl00$ASCompany$hdnAutoSuggest\": \"0\",\n",
    "    \"ctl00$ASCompany$txtAutoSuggest\": \"\",\n",
    "    \"ctl00$txtNews\": \"\",\n",
    "    \"ctl00$AutoSuggest1$hdnAutoSuggest\": \"0\",\n",
    "    \"ctl00$AutoSuggest1$txtAutoSuggest\": \"\",\n",
    "    \"ctl00$ContentPlaceHolder1$ASCompanyFilter$hdnAutoSuggest\": \"0\",\n",
    "    \"ctl00$ContentPlaceHolder1$ASCompanyFilter$txtAutoSuggest\": \"\",\n",
    "    \"ctl00$ContentPlaceHolder1$txtBuyerBrokerCodeFilter\": \"\",\n",
    "    \"ctl00$ContentPlaceHolder1$txtSellerBrokerCodeFilter\": \"\",\n",
    "    \"ctl00$ContentPlaceHolder1$txtFloorsheetDateFilter\": \"\",\n",
    "    \"ctl00$ContentPlaceHolder1$PagerControl1$hdnPCID\": \"PC1\",\n",
    "    \"ctl00$ContentPlaceHolder1$PagerControl1$hdnCurrentPage\": \"0\",\n",
    "    \"ctl00$ContentPlaceHolder1$PagerControl1$btnPaging\": \"\",\n",
    "    \"ctl00$ContentPlaceHolder1$PagerControl2$hdnPCID\": \"PC2\",\n",
    "    \"ctl00$ContentPlaceHolder1$PagerControl2$hdnCurrentPage\": \"0\"\n",
    "}"
   ]
  },
  {
   "cell_type": "code",
   "execution_count": null,
   "metadata": {},
   "outputs": [],
   "source": [
    "SESSION  = requests.session()\n",
    "headers  = {\"user-agent\": \"Mozilla/5.0 (Windows NT 10.0; Win64; x64) AppleWebKit/537.36 (KHTML, like Gecko) Chrome/129.0.0.0 Safari/537.36\"}\n",
    "response = SESSION.get(url=r\"https://merolagani.com/Floorsheet.aspx\", headers=headers)\n",
    "print(response.ok)"
   ]
  },
  {
   "cell_type": "code",
   "execution_count": null,
   "metadata": {},
   "outputs": [],
   "source": [
    "DFS = []\n",
    "# start_date = date.today() - timedelta(days=1)\n",
    "start_date = datetime.strptime(\"09/10/2024\", \"%m/%d/%Y\").date()\n",
    "form_data = refreshFormData(BeautifulSoup(response.text, \"html.parser\"), form_data)\n",
    "\n",
    "for i in range(100):\n",
    "    current_date = start_date - timedelta(days=i)\n",
    "    if current_date.weekday() != 5:\n",
    "        if current_date.month != 9:\n",
    "            break\n",
    "\n",
    "        form_data[\"ctl00$ContentPlaceHolder1$txtFloorsheetDateFilter\"] = str(current_date.strftime(\"%m/%d/%Y\"))\n",
    "        form_data[\"ctl00$ContentPlaceHolder1$PagerControl1$hdnCurrentPage\"] = 1\n",
    "\n",
    "        response = SESSION.post(r\"https://merolagani.com/Floorsheet.aspx\", data=form_data, headers=headers)\n",
    "        print(current_date.strftime(\"%m/%d/%Y\"), 1, response.status_code)\n",
    "        \n",
    "        soup  = BeautifulSoup(response.text, \"html.parser\")\n",
    "        table = soup.find(\"table\")\n",
    "        span  = soup.find(\"span\", {\"id\":\"ctl00_ContentPlaceHolder1_PagerControl1_litRecords\"})\n",
    "\n",
    "        if not table: continue\n",
    "        DFS.append(pd.read_html(StringIO(str(table)))[0])\n",
    "\n",
    "        page_count = int(span.text.split(\" \")[-1].split(\"]\")[0])\n",
    "\n",
    "        for j in range(2, page_count+1):\n",
    "            form_data[\"ctl00$ContentPlaceHolder1$txtFloorsheetDateFilter\"] = current_date.strftime(\"%m/%d/%Y\")\n",
    "            form_data[\"ctl00$ContentPlaceHolder1$PagerControl1$hdnCurrentPage\"] = j\n",
    "\n",
    "            response = SESSION.post(r\"https://merolagani.com/Floorsheet.aspx\", data=form_data, headers=headers)\n",
    "            print(current_date.strftime(\"%m/%d/%Y\"), j, response.status_code)            \n",
    "\n",
    "            soup = BeautifulSoup(response.text, \"html.parser\")\n",
    "            DFS.append(pd.read_html(StringIO(str(soup.find(\"table\"))))[0])"
   ]
  },
  {
   "cell_type": "code",
   "execution_count": null,
   "metadata": {},
   "outputs": [],
   "source": [
    "pd.concat(DFS, ignore_index=True).to_parquet(\"0003.parquet\")"
   ]
  },
  {
   "cell_type": "code",
   "execution_count": null,
   "metadata": {},
   "outputs": [],
   "source": []
  }
 ],
 "metadata": {
  "kernelspec": {
   "display_name": "venv",
   "language": "python",
   "name": "python3"
  },
  "language_info": {
   "codemirror_mode": {
    "name": "ipython",
    "version": 3
   },
   "file_extension": ".py",
   "mimetype": "text/x-python",
   "name": "python",
   "nbconvert_exporter": "python",
   "pygments_lexer": "ipython3",
   "version": "3.11.4"
  }
 },
 "nbformat": 4,
 "nbformat_minor": 2
}
